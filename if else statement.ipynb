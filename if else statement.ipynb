{
  "metadata": {
    "language_info": {
      "codemirror_mode": {
        "name": "python",
        "version": 3
      },
      "file_extension": ".py",
      "mimetype": "text/x-python",
      "name": "python",
      "nbconvert_exporter": "python",
      "pygments_lexer": "ipython3",
      "version": "3.8"
    },
    "kernelspec": {
      "name": "python",
      "display_name": "Python (Pyodide)",
      "language": "python"
    }
  },
  "nbformat_minor": 4,
  "nbformat": 4,
  "cells": [
    {
      "cell_type": "code",
      "source": "# if-Else- Else statements",
      "metadata": {},
      "execution_count": null,
      "outputs": []
    },
    {
      "cell_type": "code",
      "source": "if 25 > 10:\n    print('it worked')",
      "metadata": {
        "trusted": true
      },
      "execution_count": 1,
      "outputs": [
        {
          "name": "stdout",
          "text": "it worked\n",
          "output_type": "stream"
        }
      ]
    },
    {
      "cell_type": "code",
      "source": "if 25 > 10:\n    print('it worked')\nelse:\n    print('it did not work...')",
      "metadata": {
        "trusted": true
      },
      "execution_count": 2,
      "outputs": [
        {
          "name": "stdout",
          "text": "it worked\n",
          "output_type": "stream"
        }
      ]
    },
    {
      "cell_type": "code",
      "source": "if 25 < 10:\n    print('it worked')\nelse:\n    print('it did not work...')",
      "metadata": {
        "trusted": true
      },
      "execution_count": 4,
      "outputs": [
        {
          "name": "stdout",
          "text": "it did not work...\n",
          "output_type": "stream"
        }
      ]
    },
    {
      "cell_type": "code",
      "source": "if 25 < 10:\n    print('it worked')\nelif 25 < 20:\n    print('elif 1 worked')\nelif 25 < 10:\n    print('elif 2 worked')\nelif 25 < 30:\n    print('elif 3 worked')\nelif 25 < 220:\n    print('elif 4 worked')\nelse:\n    print('it did not work...')",
      "metadata": {
        "trusted": true
      },
      "execution_count": 6,
      "outputs": [
        {
          "name": "stdout",
          "text": "elif 3 worked\n",
          "output_type": "stream"
        }
      ]
    },
    {
      "cell_type": "code",
      "source": "if (25 < 10) or (1 < 3):\n    print('it worked')\nelif 25 < 20:\n    print('elif 1 worked')\nelif 25 < 10:\n    print('elif 2 worked')\nelif 25 < 30:\n    print('elif 3 worked')\nelif 25 < 220:\n    print('elif 4 worked')\nelse:\n    print('it did not work...')",
      "metadata": {
        "trusted": true
      },
      "execution_count": 9,
      "outputs": [
        {
          "name": "stdout",
          "text": "it worked\n",
          "output_type": "stream"
        }
      ]
    },
    {
      "cell_type": "code",
      "source": "print('it worked') if 10 > 30 else print('it didnot work')",
      "metadata": {
        "trusted": true
      },
      "execution_count": 8,
      "outputs": [
        {
          "name": "stdout",
          "text": "it didnot work\n",
          "output_type": "stream"
        }
      ]
    },
    {
      "cell_type": "code",
      "source": "if (25 < 10) or (1 < 3):\n    print('it worked')\n    if 10 > 30:\n        print(\"this nested if worked\")\nelif 25 < 20:\n    print('elif 1 worked')\nelif 25 < 10:\n    print('elif 2 worked')\nelif 25 < 30:\n    print('elif 3 worked')\nelif 25 < 220:\n    print('elif 4 worked')\nelse:\n    print('it did not work...')",
      "metadata": {
        "trusted": true
      },
      "execution_count": 10,
      "outputs": [
        {
          "name": "stdout",
          "text": "it worked\n",
          "output_type": "stream"
        }
      ]
    },
    {
      "cell_type": "code",
      "source": "",
      "metadata": {},
      "execution_count": null,
      "outputs": []
    }
  ]
}