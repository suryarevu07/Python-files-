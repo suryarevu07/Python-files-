{
 "cells": [
  {
   "cell_type": "code",
   "execution_count": null,
   "id": "d2cf2470-7236-4285-9997-75a5740e4b03",
   "metadata": {},
   "outputs": [],
   "source": [
    "#variables in python\n"
   ]
  },
  {
   "cell_type": "code",
   "execution_count": 1,
   "id": "8f5190ee-effc-4395-aae8-a1ff736b6d25",
   "metadata": {},
   "outputs": [
    {
     "name": "stdout",
     "output_type": "stream",
     "text": [
      "23\n"
     ]
    }
   ],
   "source": [
    "x=23\n",
    "print(x)"
   ]
  },
  {
   "cell_type": "code",
   "execution_count": 2,
   "id": "ec8b6825-e9ff-4d70-a528-abd9931d73ce",
   "metadata": {},
   "outputs": [
    {
     "data": {
      "text/plain": [
       "int"
      ]
     },
     "execution_count": 2,
     "metadata": {},
     "output_type": "execute_result"
    }
   ],
   "source": [
    "type(x)"
   ]
  },
  {
   "cell_type": "code",
   "execution_count": 3,
   "id": "2eef676c-7740-4b3d-8646-8d10d2e2fea5",
   "metadata": {},
   "outputs": [
    {
     "name": "stdout",
     "output_type": "stream",
     "text": [
      "mint chocolate chip\n"
     ]
    }
   ],
   "source": [
    "y=\"mint chocolate chip\"\n",
    "print(y)"
   ]
  },
  {
   "cell_type": "code",
   "execution_count": 4,
   "id": "8ff717e2-160a-4f2f-9a15-b388c4b1271b",
   "metadata": {},
   "outputs": [
    {
     "data": {
      "text/plain": [
       "str"
      ]
     },
     "execution_count": 4,
     "metadata": {},
     "output_type": "execute_result"
    }
   ],
   "source": [
    "type(y)"
   ]
  },
  {
   "cell_type": "code",
   "execution_count": 7,
   "id": "b7d36ddb-b5b6-493e-a4c8-2d144519fd0c",
   "metadata": {},
   "outputs": [
    {
     "name": "stdout",
     "output_type": "stream",
     "text": [
      "mint chocolate chip\n"
     ]
    }
   ],
   "source": [
    "y=\"chocolate\"\n",
    "Y=\"mint chocolate chip\"\n",
    "print(Y)"
   ]
  },
  {
   "cell_type": "code",
   "execution_count": 10,
   "id": "d6ac1b55-78db-4df9-bc7f-013bf0c05d40",
   "metadata": {},
   "outputs": [
    {
     "name": "stdout",
     "output_type": "stream",
     "text": [
      "chocolate\n",
      "vennila\n",
      "Rocky road\n"
     ]
    }
   ],
   "source": [
    "x,y,z=\"chocolate\",\"vennila\",\"Rocky road\"\n",
    "print(x)\n",
    "print(y)\n",
    "print(z)"
   ]
  },
  {
   "cell_type": "code",
   "execution_count": 11,
   "id": "c01f26d2-236b-48ba-bef8-72c4462ba16c",
   "metadata": {},
   "outputs": [
    {
     "name": "stdout",
     "output_type": "stream",
     "text": [
      "Root beer float\n",
      "Root beer float\n",
      "Root beer float\n"
     ]
    }
   ],
   "source": [
    "x=y=z=\"Root beer float\"\n",
    "print(x)\n",
    "print(y)\n",
    "print(z)"
   ]
  },
  {
   "cell_type": "code",
   "execution_count": 12,
   "id": "8e178f0c-42f4-4f20-93a8-6e1956b650e2",
   "metadata": {},
   "outputs": [
    {
     "name": "stdout",
     "output_type": "stream",
     "text": [
      "chocolate\n",
      "vanilla\n",
      "Rocky road\n"
     ]
    }
   ],
   "source": [
    "ice_cream =[\"chocolate\",\"vanilla\",\"Rocky road\"]\n",
    "x,y,z=ice_cream\n",
    "print(x)\n",
    "print(y)\n",
    "print(z)"
   ]
  },
  {
   "cell_type": "code",
   "execution_count": null,
   "id": "77336f4e-d205-4cbc-8143-b8398cf8ea20",
   "metadata": {},
   "outputs": [],
   "source": [
    "#camel case\n",
    "#test variable case\n",
    "testVariablecase=\"vanilla\""
   ]
  },
  {
   "cell_type": "code",
   "execution_count": null,
   "id": "5159b567-5598-4ab2-b738-816aa0066ce3",
   "metadata": {},
   "outputs": [],
   "source": [
    "#Pascal case\n",
    "#test variable case\n",
    "TestVariableCase=\"vanilla\""
   ]
  },
  {
   "cell_type": "code",
   "execution_count": null,
   "id": "8e94c602-3ea1-4179-ad19-a942d39c90d7",
   "metadata": {},
   "outputs": [],
   "source": [
    "#snake  case\n",
    "#test variable case\n",
    "test_Variable_case=\"vanilla\""
   ]
  },
  {
   "cell_type": "code",
   "execution_count": null,
   "id": "b66c05d3-dd68-4726-9c85-cdb058528c89",
   "metadata": {},
   "outputs": [],
   "source": [
    "testvar=\"vanilla\"\n",
    "test_var=\"vanilla\"\n",
    "_test_var=\"vanilla\"\n",
    "TestVar=\"vanilla\"\n",
    "testVar=\"vanilla\"\n",
    "testvar2=\"vanilla\""
   ]
  },
  {
   "cell_type": "code",
   "execution_count": 13,
   "id": "c069c383-7463-41a9-bb12-f0f22cd9be39",
   "metadata": {},
   "outputs": [
    {
     "name": "stdout",
     "output_type": "stream",
     "text": [
      "ice cream is my fav.\n"
     ]
    }
   ],
   "source": [
    "x=\"ice cream is my fav\" +\".\"\n",
    "print(x)"
   ]
  },
  {
   "cell_type": "code",
   "execution_count": 14,
   "id": "f21e4d23-209a-4562-8910-67fb111df768",
   "metadata": {},
   "outputs": [
    {
     "name": "stdout",
     "output_type": "stream",
     "text": [
      "7\n"
     ]
    }
   ],
   "source": [
    "y=3+4\n",
    "print(y)"
   ]
  },
  {
   "cell_type": "code",
   "execution_count": 16,
   "id": "799fbe52-ca4a-41a2-979e-983287162203",
   "metadata": {},
   "outputs": [
    {
     "name": "stdout",
     "output_type": "stream",
     "text": [
      "ice cream is my fav.\n"
     ]
    }
   ],
   "source": [
    "x=\"ice cream\"\n",
    "y=\" is\"\n",
    "z=\" my fav.\"\n",
    "print(x+y+z)"
   ]
  },
  {
   "cell_type": "code",
   "execution_count": 17,
   "id": "6397f5d0-c3a5-4f53-a979-d52783c0e1ba",
   "metadata": {},
   "outputs": [
    {
     "name": "stdout",
     "output_type": "stream",
     "text": [
      "ice cream 2\n"
     ]
    }
   ],
   "source": [
    "x=\"ice cream\"\n",
    "y= 2\n",
    "print(x,y)"
   ]
  },
  {
   "cell_type": "code",
   "execution_count": null,
   "id": "e94e7d43-0251-42b1-a39e-83f23629db01",
   "metadata": {},
   "outputs": [],
   "source": []
  }
 ],
 "metadata": {
  "kernelspec": {
   "display_name": "anaconda-panel-2023.05-py310",
   "language": "python",
   "name": "conda-env-anaconda-panel-2023.05-py310-py"
  },
  "language_info": {
   "codemirror_mode": {
    "name": "ipython",
    "version": 3
   },
   "file_extension": ".py",
   "mimetype": "text/x-python",
   "name": "python",
   "nbconvert_exporter": "python",
   "pygments_lexer": "ipython3",
   "version": "3.11.4"
  }
 },
 "nbformat": 4,
 "nbformat_minor": 5
}
